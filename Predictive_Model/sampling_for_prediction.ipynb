{
 "cells": [
  {
   "cell_type": "markdown",
   "id": "87f7f1cf",
   "metadata": {},
   "source": [
    "#### Choosing_samples"
   ]
  },
  {
   "cell_type": "code",
   "execution_count": null,
   "id": "cb0373e7",
   "metadata": {},
   "outputs": [],
   "source": [
    "import pandas as pd\n",
    "\n",
    "df = pd.read_parquet(r\"/teamspace/studios/disappointed-emerald-2axx/Cell_Phones_and_Accessories.parquet\")\n",
    "df_case = df[df['text'].str.contains('case', case=False)].copy()\n",
    "df_screen_protector = df[df['text'].str.contains('screen protector', case=False)].copy()\n",
    "\n",
    "df_case['year'] = df_case['timestamp'].dt.year\n",
    "df_case['month'] = df_case['timestamp'].dt.month\n",
    "\n",
    "df_screen_protector['year'] = df_screen_protector['timestamp'].dt.year\n",
    "df_screen_protector['month'] = df_screen_protector['timestamp'].dt.month\n",
    "\n",
    "df_case = df_case[df_case['year'] > 2020]\n",
    "df_screen_protector = df_screen_protector[df_screen_protector['year'] > 2020]\n",
    "\n",
    "most_frequent_year_case = df_case['year'].value_counts().idxmax()\n",
    "most_frequent_year_screen_protector = df_screen_protector['year'].value_counts().idxmax()\n",
    "\n",
    "df_case_most_frequent_year = df_case[df_case['year'] == most_frequent_year_case]\n",
    "df_screen_protector_most_frequent_year = df_screen_protector[df_screen_protector['year'] == most_frequent_year_screen_protector]\n",
    "\n",
    "most_frequent_months_case = df_case_most_frequent_year['month'].value_counts().head(3).index\n",
    "most_frequent_months_screen_protector = df_screen_protector_most_frequent_year['month'].value_counts().head(3).index\n",
    "\n",
    "df_case_selected_months = df_case_most_frequent_year[df_case_most_frequent_year['month'].isin(most_frequent_months_case)]\n",
    "df_screen_protector_selected_months = df_screen_protector_most_frequent_year[df_screen_protector_most_frequent_year['month'].isin(most_frequent_months_screen_protector)]\n",
    "\n",
    "df_case_sampled = df_case_selected_months.sample(n=100000, random_state=42, replace=False) if len(df_case_selected_months) >= 100000 else df_case_selected_months\n",
    "df_screen_protector_sampled = df_screen_protector_selected_months.sample(n=100000, random_state=42, replace=False) if len(df_screen_protector_selected_months) >= 100000 else df_screen_protector_selected_months\n",
    "\n",
    "df_case_sampled.to_parquet('case_data.parquet', index=False)\n",
    "df_screen_protector_sampled.to_parquet('screen_protector_data.parquet', index=False)\n",
    "\n",
    "print(\"Case data saved to 'case_data.parquet'\")\n",
    "print(\"Screen protector data saved to 'screen_protector_data.parquet'\")"
   ]
  },
  {
   "cell_type": "markdown",
   "id": "1bc50661",
   "metadata": {},
   "source": [
    "#### Saving"
   ]
  },
  {
   "cell_type": "code",
   "execution_count": null,
   "id": "090dbfb5",
   "metadata": {},
   "outputs": [],
   "source": [
    "df_case_sampled=pd.read_parquet('/teamspace/studios/this_studio/case_data.parquet', engine='fastparquet')\n",
    "df_screen_protector_sampled=pd.read_parquet('/teamspace/studios/this_studio/screen_protector_data.parquet', engine='fastparquet')"
   ]
  },
  {
   "cell_type": "markdown",
   "id": "6ec3220e",
   "metadata": {},
   "source": [
    "#### Removing_unnecessary_columns"
   ]
  },
  {
   "cell_type": "code",
   "execution_count": null,
   "id": "98b61474",
   "metadata": {},
   "outputs": [],
   "source": [
    "df_case_sampled.drop(['parent_asin','title','user_id','verified_purchase','images','helpful_vote','asin'],axis=1,inplace=True)\n",
    "df_screen_protector_sampled.drop(['parent_asin','title','user_id','verified_purchase','images','helpful_vote','asin'],axis=1,inplace=True)"
   ]
  }
 ],
 "metadata": {
  "language_info": {
   "name": "python"
  }
 },
 "nbformat": 4,
 "nbformat_minor": 5
}
